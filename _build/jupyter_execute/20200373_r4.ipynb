{
 "cells": [
  {
   "cell_type": "markdown",
   "id": "b6cfeb79",
   "metadata": {},
   "source": [
    "# REPORTE 4"
   ]
  },
  {
   "cell_type": "markdown",
   "id": "51e61590-56ba-45a2-8937-2e9c5ceff819",
   "metadata": {},
   "source": [
    "## Lectura"
   ]
  },
  {
   "cell_type": "markdown",
   "id": "15c3a3a1",
   "metadata": {},
   "source": [
    "La investigación de Waldo Mendoza \"Demanda y oferta agregada en presencia de políticas monetarias no convencionales\" tiene como objetivo central modelar la política monetaria no convencional aplicada por el Banco Central de Estados Unidos, la Reserva Federal (Fed), para mitigar los efectos que dejó la crisis internacional del 2008 al 2009. Para esto, el autor parte del modelo convencional de oferta y demanda agregada de economía cerrada, el modelo IS-LM y lo complementa con los modelos con activos financieros de Tobin y Brainard (1963), Branson (1977) y Tobin (1981) para que así pueda añadir las innovaciones de la política monetaria americana en un lenguaje más sencillo y convincente. De modo que, la presente investigación busca responder la pregunta: ¿De qué manera se puede modelar la política monetaria no convencional aplicada por la Reserva Federal para mitigar los efectos de la crisis de 2008-2009 a partir de un modelo IS-LM combinado con modelos con activos financieros? Cómo contribución a la pregunta, en este artículo se mostrará por un lado que los antiguos modelos y métodos tradicionales macroeconómicos aún son útiles para analizar fenómenos macroeconómicos actuales y por otro lado, que las funciones de la Reserva Federal trascendieron producto de la política monetaria no convencional que aplicó frente a la crisis internacional de 2008-2009, pues “pasó de ser sólo un prestamista en cuestiones de última instancia a ser un creador de mercados de última instancia” (IMF, 2013).\n",
    "\n",
    "Este estudio presenta un enfoque cuantitativo que parte de la formación de un modelo macroeconómico en base a la combinación de modelos que siguen la tradición del viejo keynesianismo: modelo IS-LM y los modelos con activos de Tobin y Brainard (1963), Branson (1977) y Tobin (1981). Así, a partir de este enfoque podemos distinguir algunas fortalezas y debilidades. En primer lugar, una fortaleza encontrada es que la incorporación de estos modelos con activos financieros complementando al tradicional modelo IS-LM hace que las innovaciones en la política monetaria americana sean presentadas de manera más sencilla y convincente para los lectores a comparación de los modelos y métodos macroeconómicos contemporáneos. En segundo lugar, debido a la combinación de los modelos macroeconómicos antes mencionados se crea un modelo IS-LM diferente y más completo para analizar dicho fenómeno macroeconómico, pues muestra a la Fed como administradora de la tasa de interés a corto plazo y presenta la adición de un mercado de bonos de largo plazo al modelo IS-LM. En conjunto, esto representa otra fortaleza, ya que se puede analizar los efectos de la política monetaria no convencional americana en distintos plazos (en el corto plazo, el tránsito hacia el equilibrio estacionario y el equilibrio estacionario) a partir de los valores de equilibrio de la producción, la tasa de interés de largo plazo y el nivel de precios. En tercer lugar, una debilidad que se debe considerar es que todo modelo tiene un margen de error, pues son simulaciones simplificadas de la realidad, mas no fieles reflejos de esta, de modo que no abarcan todas las variables contextuales que rodean al fenómeno macroeconómico, las cuales son igualmente importantes para explicar los efectos de la política monetaria no convencional americana.\n",
    "\n",
    "Sin embargo, a pesar de la debilidad presentada, no se debe olvidar que la investigación contribuye de manera teórica y práctica con el avance de la pregunta. Por una parte, este artículo presenta un modelo construido a partir de viejos modelos tradicionales que es capaz de estudiar y explicar los efectos de las políticas macroeconómicas convencionales, no convencionales y los choques de oferta sobre la producción, el nivel de precios, la tasa de interés de largo plazo y la cantidad de dinero en términos sencillos, lo que conlleva un importante aporte teórico, ya que evidencia que los antiguos métodos económicos siguen siendo relevantes para estudiar fenómenos macroeconómicos actuales. Por otro lado, la investigación de Mendoza también contribuye a nivel práctico, pues el modelo puede servir como una guía para las autoridades de los países sobre los posibles efectos en su economía si deciden aplicar este tipo de políticas no convencionales, teniendo en cuenta que cada economía tiene sus particularidades.\n",
    "\n",
    "Para finalizar, un paso próximo para avanzar la pregunta sería profundizar en las variables contextuales que dieron origen a las políticas monetarias no convencionales y si sería posible su funcionamiento en otras economías no solo en la estadounidense, pues en el contexto internacional se ha visto que muchas economías plantearon su uso e incluso ambiciosamente llegaron a aplicarlas incluso sin saber sus efectos. Tal como menciona Christine Lagarde (2013) se debe colaborar rápidamente para conocer más a fondo el impacto tanto local como internacional de las políticas no convencionales, para que no se desperdicie el tiempo en un círculo vicioso de ensayo y error. Adicionalmente, ahora que se sabe que los métodos económicos considerados obsoletos son útiles para resolver problemas macroeconómicos actuales, otro paso a seguir es comparar el nivel de efectividad de este modelo con el de modelos macroeconómicos contemporáneos, para así identificar cuál es más eficaz en cuanto a explicar las políticas no convencionales y sus efectos en la economía.\n",
    "\n",
    "REFERENCIAS:\n",
    "Lagarde. A.(2013, 23 de agosto).El cálculo mundial de las políticas monetarias no convencionales. Fondo Monetario Internacional. https://www.imf.org/es/News/Articles/2015/09/28/04/53/sp082313\n",
    "\n",
    "International Monetary Fund (IMF).(2013). Unconventional Monetary Policies - Recent Experiences and Prospects, Policy Papers."
   ]
  },
  {
   "cell_type": "markdown",
   "id": "c6d5fb26",
   "metadata": {},
   "source": [
    "## Código\n",
    "Roxana Rodriguez Pilco (20200373) y Greysi Arrelucea (20200279)"
   ]
  },
  {
   "cell_type": "code",
   "execution_count": 1,
   "id": "925a4093",
   "metadata": {},
   "outputs": [],
   "source": [
    "import ipywidgets as widgets\n",
    "import matplotlib.pyplot as plt\n",
    "import numpy as np\n",
    "import sympy as sy\n",
    "from sympy import *\n",
    "import pandas as pd\n",
    "#from causalgraphicalmodels import CausalGraphicalModel"
   ]
  },
  {
   "cell_type": "markdown",
   "id": "617f6ad2",
   "metadata": {},
   "source": [
    "### 1. Modelo IS-LM"
   ]
  },
  {
   "cell_type": "markdown",
   "id": "b31bc758",
   "metadata": {},
   "source": [
    "#### 1.1. Encuentre las ecuaciones de Ingreso ($Y^e$) y tasa de interes ($r^e$) de equilibrio (Escriba paso a paso la derivacion de estas ecuaciones)."
   ]
  },
  {
   "cell_type": "markdown",
   "id": "f4cd1dd8",
   "metadata": {},
   "source": [
    "Para encontrar las ecuaciones de Ingreso ($Y^e$)  y tasa de interés ($r^e$) de equilibrio del modelo IS-LM se necesitan las ecuaciones de las curvas IS y LM:\n",
    "\n",
    "Por un lado, la curva IS se deriva de la igualdad entre el ingreso ($Y$) y la demanda agregada ($DA$):\n",
    "\n",
    "$$Y=C+I+G+X-M$$\n",
    "\n",
    "Entonces, considerando las siguientes ecuaciones:\n",
    "\n",
    "$$C= C_0 + bY^d$$\n",
    "\n",
    "$$I= I_0 + hr$$\n",
    "\n",
    "$$G= G_0$$\n",
    "\n",
    "$$T= tY$$\n",
    "\n",
    "$$X= X_0$$\n",
    "\n",
    "$$M= mY^d$$\n",
    "\n",
    "Para llegar al equilibrio Ahorro-Inversión, se debe restar la tributación ($T$) de ambos miembros de la igualdad:\n",
    "\n",
    "$$Y-T = C+I+G+X-M-T$$ \n",
    "\n",
    "$$Y^d=C+I+G+X-M-T$$\n",
    "\n",
    "$$Y^d-C-G-X+M+T = I$$\n",
    "\n",
    "Esta igualdad se puede reescribir de la siguiente forma:\n",
    "\n",
    "$$(Y^d-C)+(T-G)+(M-X)=I$$\n",
    "\n",
    "Las tres partes de la derecha constituyen los tres componentes del ahorro total($S$): ahorro privado ($Sp=Y^d-C$) , ahorro del gobierno ($Sg=T-G$) y ahorro externo ($Se=M-X$):\n",
    "\n",
    "$$S=Sp+Sg+Se$$\n",
    "\n",
    "De modo que, el ahorro total ($S$) es igual a la inversión($I$):\n",
    "\n",
    "$$Sp+Sg+Se=I$$\n",
    "\n",
    "$$S(Y)=I(r)$$\n",
    "\n",
    "Haciendo reemplazos se obtiene que:\n",
    "\n",
    "$$Sp+Sg+Se=I_0-hr$$\n",
    "\n",
    "$$(Y^d-C_0-bY^d)+(T-G_0)+(mY^d-X_0)=I_0-hr$$\n",
    "\n",
    "Considerando las observaciones anteriores sobre los componentes de la condición de equilibrio ($Y$):\n",
    "\n",
    "$$ [1 - (b - m)(1 - t)]Y - (C_0 + G_0 + X_0) = I_0 - hr $$\n",
    "\n",
    "Entonces, la curva IS se puede expresar con una ecuación donde la tasa de interés es una función del ingreso:\n",
    "\n",
    "$$ hr = (C_0 + G_0 + I_0 + X_0) - [1 - (b - m)(1 - t)]Y $$\n",
    "\n",
    "luego, la sensibilidad de inversión ante la tasa de interés $h$ pasa al otro lado de la ecuación dividiendo todos los componentes y resulta:\n",
    "\n",
    "$$ r = \\frac{1}{h}(C_0 + G_0 + I_0 + X_0) - \\frac{1 - (b - m)(1 - t)}{h}Y $$\n",
    "\n",
    "Y puede simplificarse en:\n",
    "\n",
    "$$ r = \\frac{B_0}{h} - \\frac{B_1}{h}Y $$\n",
    "\n",
    "Siendo $ B_0 = C_0 + G_0 + I_0 + X_0  $ el intercepto y la pendiente $  B_1 = 1 - (b - m)(1 - t) $\n",
    "\n",
    "- Por otro lado, la ecuación de la curva LM:\n",
    "\n",
    "El equilibrio en el Mercado de Dinero que da origen a la curva LM se genera del equilibrio entre la oferta de dinero $M^s$ y la demanda de dinero $M^d$, resultando:\n",
    "\n",
    "$$M^s=M^d$$\n",
    "\n",
    "Donde:\n",
    "\n",
    "La oferta de dinero ($M^s$) → $ \\frac{M^s}{P}=\\frac{M^s_0}{P_0}$ \n",
    "\n",
    "La demanda de dinero ($M^d$) → $M_d=kY-jr$, pues se asume que la tasa de interés nominal es igual a la real $i=r$\n",
    "\n",
    "Entonces, la igualdad de la demanda y la oferta de dinero resulta:\n",
    "\n",
    "$$ \\frac{M^s_0}{P_0}=kY-jr$$\n",
    "\n",
    "Se realizan ciertas operaciones algebraicas:\n",
    "\n",
    "$$ kY-\\frac{M^s_0}{P_0}=jr $$\n",
    "\n",
    "$$ \\frac{kY}{j} - \\frac{M^s_0}{P_0j}=r $$\n",
    "\n",
    "Entonces, la curva LM se da en función de la tasa de interés $r$:\n",
    " \n",
    "$$ r = - \\frac{1}{j}\\frac{M^s_0}{P_0}  + \\frac{k}{j}Y $$\n",
    "\n",
    "Siendo, -$\\frac{1}{j}\\frac{M^s_0}{P_0}$ el intercepto y $\\frac{k}{j} $ la pendiente\n",
    "\n",
    "Para encontrar el nivel de Ingresos de equilibrio ($Y^e$)  y la tasa de interés de equilibrio ($r^e$) se puede hacer por cualquiera de los tres métodos: reducción, igualación o sustitución.\n",
    "\n",
    "Se igualan las curvas IS y LM:\n",
    "\n",
    "$$-\\frac{1}{j}\\frac{M^s_0}{P_0}+\\frac{k}{j}Y=\\frac{B_0}{h} - \\frac{B_1}{h}Y$$\n",
    "\n",
    "Resultando:\n",
    "\n",
    "- Ingreso de equilibrio ($Y^e$)\n",
    "\n",
    "\n",
    "$$Y^e=\\frac{jB_0}{kh+jB_1}+(\\frac{h}{kh+jB_1})\\frac{M^s_0}{P_0}$$\n",
    "\n",
    "\n",
    "- Tasa de interés de equilibrio ($r^e$)\n",
    "\n",
    "\n",
    "$$r^e=\\frac{kB_0}{kh+jB_1}+(\\frac{B_1}{kh+jB_1})\\frac{M^s_0}{P_0}$$\n",
    "\n",
    "\n",
    "Estas 2 ecuaciones representan el modelo IS-LM"
   ]
  },
  {
   "cell_type": "markdown",
   "id": "625cb463",
   "metadata": {},
   "source": [
    "#### 1.2. Grafique el equilibrio simultáneo en los mercados de bienes y de dinero."
   ]
  },
  {
   "cell_type": "code",
   "execution_count": 2,
   "id": "cc49477c",
   "metadata": {},
   "outputs": [],
   "source": [
    "# Curva IS\n",
    "\n",
    "# Parámetros\n",
    "\n",
    "Y_size = 100 \n",
    "\n",
    "Co = 35\n",
    "Io = 40\n",
    "Go = 50\n",
    "Xo = 2\n",
    "h = 0.8\n",
    "b = 0.5\n",
    "m = 0.4\n",
    "t = 0.8\n",
    "\n",
    "Y = np.arange(Y_size)\n",
    "\n",
    "\n",
    "# Ecuación \n",
    "def r_IS(b, m, t, Co, Io, Go, Xo, h, Y):\n",
    "    r_IS = (Co + Io + Go + Xo)/h - ( ( 1-(b-m)*(1-t) ) / h)*Y  \n",
    "    return r_IS\n",
    "\n",
    "r_is = r_IS(b, m, t, Co, Io, Go, Xo, h, Y)\n",
    "\n",
    "\n",
    "#--------------------------------------------------\n",
    "    # Curva LM \n",
    "\n",
    "# Parámetros\n",
    "\n",
    "Y_size = 100\n",
    "\n",
    "k = 2\n",
    "j = 1                \n",
    "Ms = 200             \n",
    "P  = 20               \n",
    "\n",
    "Y = np.arange(Y_size)\n",
    "\n",
    "# Ecuación\n",
    "def r_LM(k, j, Ms, P, Y):\n",
    "    r_LM = - (1/j)*(Ms/P) + (k/j)*Y\n",
    "    return r_LM\n",
    "\n",
    "r_lm = r_LM( k, j, Ms, P, Y)"
   ]
  },
  {
   "cell_type": "code",
   "execution_count": 3,
   "id": "acc7f9d4",
   "metadata": {},
   "outputs": [
    {
     "data": {
      "image/png": "[encoded data removed]",
      "text/plain": [
       "<Figure size 720x576 with 1 Axes>"
      ]
     },
     "metadata": {
      "filenames": {
       "image/png": "C:\\Users\\Usuario\\reportesmacro\\_build\\jupyter_execute\\20200373_r4_10_0.png"
      }
     },
     "output_type": "display_data"
    }
   ],
   "source": [
    "# Gráfico del modelo IS-LM\n",
    "\n",
    "# Dimensiones del gráfico\n",
    "y_max = np.max(r_lm)\n",
    "fig, ax = plt.subplots(figsize=(10, 8))\n",
    "\n",
    "# Curvas a graficar\n",
    "# Curva IS\n",
    "ax.plot(Y, r_is, label = \"IS\", color = \"#ffb3ff\") #IS\n",
    "# Curva LM\n",
    "ax.plot(Y, r_lm, label=\"LM\", color = \"#ccccff\")  #LM\n",
    "\n",
    "# Eliminar las cantidades de los ejes\n",
    "ax.yaxis.set_major_locator(plt.NullLocator())   \n",
    "ax.xaxis.set_major_locator(plt.NullLocator())\n",
    "\n",
    "# Texto y figuras agregadas\n",
    "# Graficar la linea horizontal - r\n",
    "plt.axvline(x=52.3,  ymin= 0, ymax= 0.522, linestyle = \":\", color = \"purple\")\n",
    "# Graficar la linea vertical - Y\n",
    "plt.axhline(y=94, xmin= 0, xmax= 0.522, linestyle = \":\", color = \"purple\")\n",
    "\n",
    "# Plotear los textos \n",
    "plt.text(51,102, '$E_0$', fontsize = 14, color = 'black')\n",
    "plt.text(0,100, '$r_0$', fontsize = 12, color = 'black')\n",
    "plt.text(53,-10, '$Y_0$', fontsize = 12, color = 'black')\n",
    "plt.text(49,130, '$I$', fontsize = 14, color = 'blue')\n",
    "plt.text(75,82, '$II$', fontsize = 14, color = 'blue')\n",
    "plt.text(48.5,40, '$III$', fontsize = 14, color = 'blue')\n",
    "plt.text(25,82, '$IV$', fontsize = 14, color = 'blue')\n",
    "\n",
    "# Título, ejes y leyenda\n",
    "ax.set(title=\"Equilibrio simultáneo en los mercados de bienes y dinero\", xlabel='Y', ylabel='r')\n",
    "ax.legend()\n",
    "\n",
    "plt.show()"
   ]
  },
  {
   "cell_type": "markdown",
   "id": "e4fcb695",
   "metadata": {},
   "source": [
    "### 2. Estática comparativa."
   ]
  },
  {
   "cell_type": "markdown",
   "id": "9fbac8c2",
   "metadata": {},
   "source": [
    "#### 2.1. Analice los efectos sobre las variables endógenas Y, r de una disminución del gasto fiscal $(ΔG_0<0)$ . El análisis debe ser intuitivo, matemático y gráfico."
   ]
  },
  {
   "cell_type": "markdown",
   "id": "b89591b2",
   "metadata": {},
   "source": [
    "###### Análisis intuitivo\n",
    "\n",
    "- Mercado de Bienes\n",
    "\n",
    "$$ G_0↓ → DA↓ → DA<Y → Y↓$$\n",
    "\n",
    "- Mercado de dinero\n",
    "\n",
    "$$ Y↓ → Md↓ → Md<Ms → r↓$$"
   ]
  },
  {
   "cell_type": "markdown",
   "id": "ad21e98b",
   "metadata": {},
   "source": [
    "###### Análisis matemático"
   ]
  },
  {
   "cell_type": "code",
   "execution_count": 4,
   "id": "f9687521",
   "metadata": {},
   "outputs": [],
   "source": [
    "# Beta_0 y beta_1\n",
    "beta_0 = (Co + Io + Go + Xo)\n",
    "beta_1 = ( 1-(b-m)*(1-t) )\n",
    "\n",
    "# Producto de equilibrio y la tasa de interes de equilibrio en el modelo IS-LM\n",
    "r_eq = (k*beta_0)/(k*h + j*beta_1) - ( beta_1 / (k*h + j*beta_1) )*(Ms/P)\n",
    "Y_eq = (j*beta_0)/(k*h + j*beta_1) + ( h / (k*h + j*beta_1) )*(Ms/P)"
   ]
  },
  {
   "cell_type": "code",
   "execution_count": 5,
   "id": "ab6fbdfe",
   "metadata": {},
   "outputs": [],
   "source": [
    "# nombrar variables como símbolos\n",
    "Co, Io, Go, Xo, h, r, b, m, t, beta_0, beta_1  = symbols('Co Io Go Xo h r b m t beta_0, beta_1')\n",
    "\n",
    "# nombrar variables como símbolos\n",
    "k, j, Ms, P, Y = symbols('k j Ms P Y')\n",
    "\n",
    "# Beta_0 y beta_1\n",
    "beta_0 = (Co + Io + Go + Xo)\n",
    "beta_1 = ( 1-(b-m)*(1-t) )\n",
    "\n",
    "# Producto de equilibrio y la tasa de interes de equilibrio en el modelo IS-LM\n",
    "r_eq = (k*beta_0)/(k*h + j*beta_1) - ( beta_1 / (k*h + j*beta_1) )*(Ms/P)\n",
    "Y_eq = (j*beta_0)/(k*h + j*beta_1) + ( h / (k*h + j*beta_1) )*(Ms/P)"
   ]
  },
  {
   "cell_type": "code",
   "execution_count": 6,
   "id": "8b319e23",
   "metadata": {},
   "outputs": [
    {
     "name": "stdout",
     "output_type": "stream",
     "text": [
      "El Diferencial del Producto con respecto al diferencial del gasto autónomo =  j/(h*k + j*(-(1 - t)*(b - m) + 1))\n"
     ]
    }
   ],
   "source": [
    "df_Y_eq_Go = diff(Y_eq, Go)\n",
    "print(\"El Diferencial del Producto con respecto al diferencial del gasto autónomo = \", df_Y_eq_Go)  # este diferencial es positivo"
   ]
  },
  {
   "cell_type": "code",
   "execution_count": 7,
   "id": "33cedfcc",
   "metadata": {},
   "outputs": [
    {
     "name": "stdout",
     "output_type": "stream",
     "text": [
      "El Diferencial de la tasa de interés con respecto al diferencial del gasto autónomo =  k/(h*k + j*(-(1 - t)*(b - m) + 1))\n"
     ]
    }
   ],
   "source": [
    "df_r_eq_Go = diff(r_eq, Go)\n",
    "print(\"El Diferencial de la tasa de interés con respecto al diferencial del gasto autónomo = \", df_r_eq_Go)  # este diferencial es positivo"
   ]
  },
  {
   "cell_type": "markdown",
   "id": "a7088891",
   "metadata": {},
   "source": [
    "- Cambios en el producto de equilibrio:\n",
    "\n",
    "$$ΔY_e= \\frac{j}{kh+jB_1}ΔG_0<0 → Y (-)$$\n",
    "\n",
    "$$ΔY_e= (+)(-) < 0 →(-)$$\n",
    "\n",
    "- Cambios en la tasa de interés de equilibrio:\n",
    "\n",
    "$$Δr_e= \\frac{k}{kh+jB_1}ΔG_0 < 0$$\n",
    "\n",
    "$$Δr_e= (+)(-) < 0 →(-)$$"
   ]
  },
  {
   "cell_type": "markdown",
   "id": "1c7e7333",
   "metadata": {},
   "source": [
    "###### Gráfico"
   ]
  },
  {
   "cell_type": "code",
   "execution_count": 8,
   "id": "9979f4dd",
   "metadata": {},
   "outputs": [],
   "source": [
    "#1--------------------------------------------------\n",
    "    # Curva IS ORIGINAL\n",
    "\n",
    "# Parámetros\n",
    "\n",
    "Y_size = 100 \n",
    "\n",
    "Co = 35\n",
    "Io = 40\n",
    "Go = 79\n",
    "Xo = 2\n",
    "h = 0.8\n",
    "b = 0.5\n",
    "m = 0.4\n",
    "t = 0.8\n",
    "\n",
    "Y = np.arange(Y_size)\n",
    "\n",
    "\n",
    "# Ecuación \n",
    "def r_IS(b, m, t, Co, Io, Go, Xo, h, Y):\n",
    "    r_IS = (Co + Io + Go + Xo - Y * (1-(b-m)*(1-t)))/h\n",
    "    return r_IS\n",
    "\n",
    "r = r_IS(b, m, t, Co, Io, Go, Xo, h, Y)\n",
    "\n",
    "\n",
    "#2--------------------------------------------------\n",
    "    # Curva LM ORIGINAL\n",
    "\n",
    "# Parámetros\n",
    "\n",
    "Y_size = 100\n",
    "\n",
    "k = 2\n",
    "j = 1                \n",
    "Ms = 200 \n",
    "P  = 20               \n",
    "\n",
    "Y = np.arange(Y_size)\n",
    "\n",
    "# Ecuación\n",
    "\n",
    "def i_LM( k, j, Ms, P, Y):\n",
    "    i_LM = (-Ms/P)/j + k/j*Y\n",
    "    return i_LM\n",
    "\n",
    "i = i_LM( k, j, Ms, P, Y)"
   ]
  },
  {
   "cell_type": "code",
   "execution_count": 9,
   "id": "fa89f019",
   "metadata": {},
   "outputs": [],
   "source": [
    "#--------------------------------------------------\n",
    "    # NUEVA curva IS: reducción Gasto de Gobienro (Go)\n",
    "    \n",
    "# Definir SOLO el parámetro cambiado\n",
    "Go = 50\n",
    "\n",
    "# Generar la ecuación con el nuevo parámetro\n",
    "def r_IS(b, m, t, Co, Io, Go, Xo, h, Y):\n",
    "    r_IS = (Co + Io + Go + Xo - Y * (1-(b-m)*(1-t)))/h\n",
    "    return r_IS\n",
    "\n",
    "r_G = r_IS(b, m, t, Co, Io, Go, Xo, h, Y)"
   ]
  },
  {
   "cell_type": "code",
   "execution_count": 10,
   "id": "c19bbabb",
   "metadata": {},
   "outputs": [
    {
     "data": {
      "image/png": "[encoded data removed]",
      "text/plain": [
       "<Figure size 720x576 with 1 Axes>"
      ]
     },
     "metadata": {
      "filenames": {
       "image/png": "C:\\Users\\Usuario\\reportesmacro\\_build\\jupyter_execute\\20200373_r4_23_0.png"
      },
      "needs_background": "light"
     },
     "output_type": "display_data"
    }
   ],
   "source": [
    "# Gráfico\n",
    "\n",
    "# Dimensiones del gráfico\n",
    "y_max = np.max(i)\n",
    "fig, ax = plt.subplots(figsize=(10, 8))\n",
    "\n",
    "# Curvas a graficar\n",
    "ax.plot(Y, r, label = \"IS_(G_0)\", color = \"#00008b\") #IS_orginal\n",
    "ax.plot(Y, r_G, label = \"IS_(G_1)\", color = \"#33ccff\", linestyle = 'dashed') #IS_modificada\n",
    "\n",
    "ax.plot(Y, i, label=\"LM\", color = \"#9370db\")  #LM_original\n",
    "\n",
    "# Texto y figuras agregadas\n",
    "plt.axvline(x=52.3,  ymin= 0, ymax= 0.505, linestyle = \":\", color = \"#ffb6c1\")\n",
    "plt.axhline(y=94.6, xmin= 0, xmax= 0.526, linestyle = \":\", color = \"#ffb6c1\")\n",
    "plt.axvline(x=63.5,  ymin= 0, ymax= 0.605, linestyle = \":\", color = \"#ffb6c1\")\n",
    "plt.axhline(y=117, xmin= 0, xmax= 0.625, linestyle = \":\", color = \"#ffb6c1\")\n",
    "\n",
    "#Títulos de las variables\n",
    "plt.text(49,100, '$E_1$', fontsize = 14, color = 'black')\n",
    "plt.text(61,122, '$E_0$', fontsize = 14, color = 'black')\n",
    "plt.text(-1,120, '$r_0$', fontsize = 13, color = 'black')\n",
    "plt.text(-1,98, '$r_1$', fontsize = 13, color = 'black')\n",
    "plt.text(65,12, '$Y_0$', fontsize = 13, color = 'black')\n",
    "plt.text(54,12, '$Y_1$', fontsize = 13, color = 'black')\n",
    "plt.text(69, 84, '$ΔG_0$', fontsize=15, color='blue')\n",
    "#Flechas\n",
    "plt.text(70, 78, '←', fontsize=15, color='blue')\n",
    "plt.text(56, 35, '←', fontsize=15, color='blue')\n",
    "plt.text(4, 104, '↓', fontsize=15, color='blue')\n",
    "\n",
    "# Título, ejes y leyenda\n",
    "ax.set(title=\"Efectos de la disminución del Gasto Autónomo($G_0<0$)\", xlabel='Y', ylabel='r')\n",
    "ax.legend()\n",
    "\n",
    "plt.show()"
   ]
  },
  {
   "cell_type": "markdown",
   "id": "e5dead9e",
   "metadata": {},
   "source": [
    "#### 2.2. Analice los efectos sobre las variables endógenas Y, r de una disminución de la masa monetaria $(ΔM^s<0)$ . El análisis debe ser intuitivo, matemático y gráfico."
   ]
  },
  {
   "cell_type": "markdown",
   "id": "96f92f92",
   "metadata": {},
   "source": [
    "Análisis intuitivo\n",
    "\n",
    "- Mercado de dinero\n",
    "\n",
    "$$ M^s_0↓ → M^s<M^d → r↑ $$\n",
    "\n",
    "- Mercado de bienes\n",
    "\n",
    "$$ r↑ → I↓ → DA↓ → DA<Y → Y↓ $$"
   ]
  },
  {
   "cell_type": "markdown",
   "id": "dcc741c7",
   "metadata": {},
   "source": [
    "###### Análisis matemático"
   ]
  },
  {
   "cell_type": "code",
   "execution_count": 11,
   "id": "0a557245",
   "metadata": {},
   "outputs": [],
   "source": [
    "# nombrar variables como símbolos\n",
    "Co, Io, Go, Xo, h, r, b, m, t, beta_0, beta_1  = symbols('Co Io Go Xo h r b m t beta_0, beta_1')\n",
    "\n",
    "# nombrar variables como símbolos\n",
    "k, j, Ms, P, Y = symbols('k j Ms P Y')\n",
    "\n",
    "# Beta_0 y beta_1\n",
    "beta_0 = (Co + Io + Go + Xo)\n",
    "beta_1 = ( 1-(b-m)*(1-t) )\n",
    "\n",
    "# Producto de equilibrio y la tasa de interes de equilibrio en el modelo IS-LM\n",
    "r_eq = (k*beta_0)/(k*h + j*beta_1) - ( beta_1 / (k*h + j*beta_1) )*(Ms/P)\n",
    "Y_eq = (j*beta_0)/(k*h + j*beta_1) + ( h / (k*h + j*beta_1) )*(Ms/P)"
   ]
  },
  {
   "cell_type": "code",
   "execution_count": 12,
   "id": "552685de",
   "metadata": {},
   "outputs": [
    {
     "name": "stdout",
     "output_type": "stream",
     "text": [
      "El Diferencial de la tasa de interés con respecto al diferencial de la masa monetaria =  -(-(1 - t)*(b - m) + 1)/(P*(h*k + j*(-(1 - t)*(b - m) + 1)))\n"
     ]
    }
   ],
   "source": [
    "df_r_eq_Ms = diff(r_eq, Ms)\n",
    "print(\"El Diferencial de la tasa de interés con respecto al diferencial de la masa monetaria = \", df_r_eq_Ms)  # este diferencial es positivo"
   ]
  },
  {
   "cell_type": "code",
   "execution_count": 13,
   "id": "cdce4f4a",
   "metadata": {},
   "outputs": [
    {
     "name": "stdout",
     "output_type": "stream",
     "text": [
      "El Diferencial del producto con respecto al diferencial de la masa monetaria =  h/(P*(h*k + j*(-(1 - t)*(b - m) + 1)))\n"
     ]
    }
   ],
   "source": [
    "df_Y_eq_Ms = diff(Y_eq, Ms)\n",
    "print(\"El Diferencial del producto con respecto al diferencial de la masa monetaria = \", df_Y_eq_Ms)  # este diferencial es positivo"
   ]
  },
  {
   "cell_type": "markdown",
   "id": "2a06afb4",
   "metadata": {},
   "source": [
    "\n",
    "- Cambios en la tasa de interés de equilibrio:\n",
    "\n",
    "$$Δr_e= -\\frac{B_1}{kh+jB_1}\\frac{1}{P}ΔM^s_0 >0$$\n",
    "\n",
    "$$Δr_e= (-)(+)(+)(-) > 0 →(+)$$\n",
    "\n",
    "- Cambios en el ingreso de equilibrio:\n",
    "\n",
    "$$\\fracΔY_e= \\frac{h}{kh+jB_1}\\frac{1}{P}ΔM^s_0 < 0$$\n",
    "\n",
    "$$\\frac{ΔY_e}{ΔM^s_0}= (+)(+)(-) < 0 →(-)$$\n"
   ]
  },
  {
   "cell_type": "markdown",
   "id": "b6db34ee",
   "metadata": {},
   "source": [
    "###### Gráfico"
   ]
  },
  {
   "cell_type": "code",
   "execution_count": 14,
   "id": "0d282efe",
   "metadata": {},
   "outputs": [],
   "source": [
    "#1--------------------------------------------------\n",
    "    # Curva IS ORIGINAL\n",
    "\n",
    "# Parámetros\n",
    "\n",
    "Y_size = 100 \n",
    "\n",
    "Co = 35\n",
    "Io = 40\n",
    "Go = 50\n",
    "Xo = 2\n",
    "h = 0.8\n",
    "b = 0.5\n",
    "m = 0.4\n",
    "t = 0.8\n",
    "\n",
    "Y = np.arange(Y_size)\n",
    "\n",
    "\n",
    "# Ecuación \n",
    "def r_IS(b, m, t, Co, Io, Go, Xo, h, Y):\n",
    "    r_IS = (Co + Io + Go + Xo - Y * (1-(b-m)*(1-t)))/h\n",
    "    return r_IS\n",
    "\n",
    "r = r_IS(b, m, t, Co, Io, Go, Xo, h, Y)\n",
    "\n",
    "\n",
    "#2--------------------------------------------------\n",
    "    # Curva LM ORIGINAL\n",
    "\n",
    "# Parámetros\n",
    "\n",
    "Y_size = 100\n",
    "\n",
    "k = 2\n",
    "j = 1                \n",
    "Ms = 700             \n",
    "P  = 20               \n",
    "\n",
    "Y = np.arange(Y_size)\n",
    "\n",
    "# Ecuación\n",
    "\n",
    "def i_LM( k, j, Ms, P, Y):\n",
    "    i_LM = (-Ms/P)/j + k/j*Y\n",
    "    return i_LM\n",
    "\n",
    "i = i_LM( k, j, Ms, P, Y)"
   ]
  },
  {
   "cell_type": "code",
   "execution_count": 15,
   "id": "57d0371d",
   "metadata": {},
   "outputs": [],
   "source": [
    "# Definir SOLO el parámetro cambiado, en este caso, disminuye la masa monetaria\n",
    "Ms = 200\n",
    "\n",
    "# Generar nueva curva LM con la variacion del Ms\n",
    "def i_LM_Ms( k, j, Ms, P, Y):\n",
    "    i_LM = (-Ms/P)/j + k/j*Y\n",
    "    return i_LM\n",
    "\n",
    "i_Ms = i_LM_Ms( k, j, Ms, P, Y)"
   ]
  },
  {
   "cell_type": "code",
   "execution_count": 16,
   "id": "ebb47812",
   "metadata": {},
   "outputs": [
    {
     "data": {
      "image/png": "[encoded data removed]",
      "text/plain": [
       "<Figure size 720x576 with 1 Axes>"
      ]
     },
     "metadata": {
      "filenames": {
       "image/png": "C:\\Users\\Usuario\\reportesmacro\\_build\\jupyter_execute\\20200373_r4_34_0.png"
      },
      "needs_background": "light"
     },
     "output_type": "display_data"
    }
   ],
   "source": [
    "# Gráfico\n",
    "\n",
    "# Dimensiones del gráfico\n",
    "y_max = np.max(i)\n",
    "fig, ax = plt.subplots(figsize=(10, 8))\n",
    "\n",
    "# Curvas a graficar\n",
    "ax.plot(Y, r, label = \"IS\", color = \"#990099\") #IS_orginal\n",
    "ax.plot(Y, i, label=\"LM_(MS_0)\", color = \"#00cc66\")  #LM_original\n",
    "\n",
    "ax.plot(Y, i_Ms, label=\"LM_(MS_1)\", color = \"#80b8f0\", linestyle = 'dashed')  #LM_modificada\n",
    "\n",
    "# Lineas de equilibrio_1 \n",
    "plt.axvline(x=52.3,  ymin= 0, ymax= 0.57, linestyle = \":\", color = \"grey\")\n",
    "plt.axhline(y=94.3, xmin= 0, xmax= 0.52, linestyle = \":\", color = \"grey\")\n",
    "\n",
    "# Lineas de equilibrio_0 \n",
    "plt.axvline(x=60,  ymin= 0, ymax= 0.53, linestyle = \":\", color = \"grey\")\n",
    "plt.axhline(y=84.7, xmin= 0, xmax= 0.59, linestyle = \":\", color = \"grey\")\n",
    "\n",
    "# Textos ploteados\n",
    "plt.text(64,83, '$E_0$', fontsize = 14, color = 'black')\n",
    "plt.text(-1,72, '$r_0$', fontsize = 12, color = 'black')\n",
    "plt.text(61,-40, '$Y_0$', fontsize = 12, color = 'black')\n",
    "plt.text(49,100, '$E_1$', fontsize = 14, color = 'black')\n",
    "plt.text(-1,100, '$r_1$', fontsize = 12, color = 'black')\n",
    "plt.text(48,-40, '$Y_1$', fontsize = 12, color = 'black')\n",
    "plt.text(69, 120, '$ΔM^s_0$', fontsize=13, color='blue')\n",
    "#Flechas\n",
    "plt.text(70, 115, '←', fontsize=13, color='blue')\n",
    "plt.text(55, 35, '←', fontsize=15, color='blue')\n",
    "plt.text(4, 86, '↓', fontsize=15, color='blue')\n",
    "\n",
    "# Título, ejes y leyenda\n",
    "ax.set(title=\"Efectos de una Reducción de la Masa Monetaria ($M^s_0<0$)\", xlabel='Y', ylabel='r')\n",
    "ax.legend()\n",
    "\n",
    "plt.show()"
   ]
  },
  {
   "cell_type": "markdown",
   "id": "fcd2a83e",
   "metadata": {},
   "source": [
    "#### 2.3. Analice los efectos sobre las variables endógenas Y, r de un incremento de la tasa de impuestos $(Δt>0)$ . El análisis debe ser intuitivo, matemático y gráfico."
   ]
  },
  {
   "cell_type": "markdown",
   "id": "05523338",
   "metadata": {},
   "source": [
    "###### Análisis intuitivo\n",
    "\n",
    "- Mercado de bienes\n",
    "\n",
    "$$ t↑ → DA↓ → DA<Y → Y↓ $$\n",
    "\n",
    "- Mercado de dinero\n",
    "\n",
    "$$ Y↓ → M^d<M^s → r↓ $$"
   ]
  },
  {
   "cell_type": "markdown",
   "id": "8fa126e1",
   "metadata": {},
   "source": [
    "###### Análisis matemático"
   ]
  },
  {
   "cell_type": "code",
   "execution_count": 17,
   "id": "348c36a5",
   "metadata": {},
   "outputs": [],
   "source": [
    "# nombrar variables como símbolos\n",
    "Co, Io, Go, Xo, h, r, b, m, t, beta_0, beta_1  = symbols('Co Io Go Xo h r b m t beta_0, beta_1')\n",
    "\n",
    "# nombrar variables como símbolos\n",
    "k, j, Ms, P, Y = symbols('k j Ms P Y')\n",
    "\n",
    "# Beta_0 y beta_1\n",
    "beta_0 = (Co + Io + Go + Xo)\n",
    "beta_1 = ( 1-(b-m)*(1-t) )\n",
    "\n",
    "# Producto de equilibrio y la tasa de interes de equilibrio en el modelo IS-LM\n",
    "r_eq = (k*beta_0)/(k*h + j*beta_1) - ( beta_1 / (k*h + j*beta_1) )*(Ms/P)\n",
    "Y_eq = (j*beta_0)/(k*h + j*beta_1) + ( h / (k*h + j*beta_1) )*(Ms/P)"
   ]
  },
  {
   "cell_type": "code",
   "execution_count": 18,
   "id": "568935be",
   "metadata": {},
   "outputs": [
    {
     "name": "stdout",
     "output_type": "stream",
     "text": [
      "El Diferencial de la tasa de interés con respecto al diferencial de la tasa impositiva =  Ms*j*(b - m)*(-(1 - t)*(b - m) + 1)/(P*(h*k + j*(-(1 - t)*(b - m) + 1))**2) - Ms*(b - m)/(P*(h*k + j*(-(1 - t)*(b - m) + 1))) - j*k*(b - m)*(Co + Go + Io + Xo)/(h*k + j*(-(1 - t)*(b - m) + 1))**2\n"
     ]
    }
   ],
   "source": [
    "df_r_eq_t = diff(r_eq, t)\n",
    "print(\"El Diferencial de la tasa de interés con respecto al diferencial de la tasa impositiva = \", df_r_eq_t)  # este diferencial es negativo"
   ]
  },
  {
   "cell_type": "code",
   "execution_count": 19,
   "id": "c17a7a47",
   "metadata": {},
   "outputs": [
    {
     "name": "stdout",
     "output_type": "stream",
     "text": [
      "El Diferencial del producto con respecto al diferencial de la tasa impositiva =  -Ms*h*j*(b - m)/(P*(h*k + j*(-(1 - t)*(b - m) + 1))**2) - j**2*(b - m)*(Co + Go + Io + Xo)/(h*k + j*(-(1 - t)*(b - m) + 1))**2\n"
     ]
    }
   ],
   "source": [
    "df_Y_eq_t = diff(Y_eq, t)\n",
    "print(\"El Diferencial del producto con respecto al diferencial de la tasa impositiva = \", df_Y_eq_t)  # este diferencial es negativo"
   ]
  },
  {
   "cell_type": "markdown",
   "id": "ef6997a7",
   "metadata": {},
   "source": [
    "\n",
    "Tanto la tasa de interés como el producto se reducen, por ende su diferencial sería negativo y el diferencial de la tasa impositiva sería positivo ya que aumentó. Esto me dice que los diferenciales que aparecen en el código serían negativos.\n",
    "\n",
    "- Cambios en el la tasa de interés de equilibrio:\n",
    "\n",
    "$$Δr^e/Δt = (-)$$\n",
    "\n",
    "$$Δr^e/(+) = (-)$$\n",
    "\n",
    "$$Δr^e = (-)$$\n",
    "\n",
    "- Cambios en el ingreso de equilibrio:\n",
    "\n",
    "$$ΔY^e/Δt = (-)$$\n",
    "\n",
    "$$ΔY^e/(+) = (-)$$\n",
    "\n",
    "$$ΔY^e = (-)$$"
   ]
  },
  {
   "cell_type": "markdown",
   "id": "25fa1ea6",
   "metadata": {},
   "source": [
    "###### Gráfico"
   ]
  },
  {
   "cell_type": "code",
   "execution_count": 20,
   "id": "402fc59a",
   "metadata": {},
   "outputs": [],
   "source": [
    "#1--------------------------------------------------\n",
    "    # Curva IS ORIGINAL\n",
    "\n",
    "# Parámetros\n",
    "\n",
    "Y_size = 100 \n",
    "\n",
    "Co = 35\n",
    "Io = 40\n",
    "Go = 50\n",
    "Xo = 2\n",
    "h = 0.8\n",
    "b = 0.5\n",
    "m = 0.4\n",
    "t = 0.03\n",
    "\n",
    "Y = np.arange(Y_size)\n",
    "\n",
    "\n",
    "# Ecuación \n",
    "def r_IS(b, m, t, Co, Io, Go, Xo, h, Y):\n",
    "    r_IS= (Co + Io + Go + Xo - Y * (1-(b-m)*(1-t)))/h\n",
    "    return r_IS\n",
    "\n",
    "r = r_IS(b, m, t, Co, Io, Go, Xo, h, Y)\n",
    "\n",
    "\n",
    "#2--------------------------------------------------\n",
    "    # Curva LM ORIGINAL\n",
    "\n",
    "# Parámetros\n",
    "\n",
    "Y_size = 100\n",
    "\n",
    "k = 2\n",
    "j = 1                \n",
    "Ms = 200             \n",
    "P  = 20               \n",
    "\n",
    "Y = np.arange(Y_size)\n",
    "\n",
    "# Ecuación\n",
    "\n",
    "def i_LM( k, j, Ms, P, Y):\n",
    "    i_LM = (-Ms/P)/j + k/j*Y\n",
    "    return i_LM\n",
    "\n",
    "i = i_LM( k, j, Ms, P, Y)"
   ]
  },
  {
   "cell_type": "code",
   "execution_count": 21,
   "id": "82a49149",
   "metadata": {},
   "outputs": [],
   "source": [
    "#--------------------------------------------------\n",
    "    # NUEVA curva IS: aumento de tasa impositiva (t)\n",
    "    \n",
    "# Definir SOLO el parámetro cambiado\n",
    "t = 0.99\n",
    "\n",
    "# Generar la ecuación con el nuevo parámetro\n",
    "def r_IS(b, m, t, Co, Io, Go, Xo, h, Y):\n",
    "    r_IS= (Co + Io + Go + Xo -Y * (1-(b-m)*(1-t)))/h\n",
    "    return r_IS\n",
    "\n",
    "r_t = r_IS(b, m, t, Co, Io, Go, Xo, h, Y)"
   ]
  },
  {
   "cell_type": "code",
   "execution_count": 22,
   "id": "25284c94",
   "metadata": {},
   "outputs": [
    {
     "data": {
      "image/png": "[encoded data removed]",
      "text/plain": [
       "<Figure size 720x576 with 1 Axes>"
      ]
     },
     "metadata": {
      "filenames": {
       "image/png": "C:\\Users\\Usuario\\reportesmacro\\_build\\jupyter_execute\\20200373_r4_45_0.png"
      },
      "needs_background": "light"
     },
     "output_type": "display_data"
    }
   ],
   "source": [
    "# Gráfico\n",
    "\n",
    "# Dimensiones del gráfico\n",
    "y_max = np.max(i)\n",
    "fig, ax = plt.subplots(figsize=(10, 8))\n",
    "\n",
    "# Curvas a graficar\n",
    "ax.plot(Y, r, label = \"IS_(t_0)\", color = \"#ff5079\") #IS_orginal\n",
    "ax.plot(Y, r_t, label = \"IS_(t_1)\", color = \"#20b2aa\", linestyle = 'dashed') #IS_modificada\n",
    "\n",
    "ax.plot(Y, i, label=\"LM\", color = \"#3399ff\")  #LM_original\n",
    "\n",
    "# Texto y figuras agregadas\n",
    "plt.axvline(x=52,  ymin= 0, ymax= 0.53, linestyle = \":\", color = \"#808080\")\n",
    "plt.axhline(y=93.5, xmin= 0, xmax= 0.53, linestyle = \":\", color = \"#808080\")\n",
    "plt.axvline(x=54,  ymin= 0, ymax= 0.54, linestyle = \":\", color = \"#808080\")\n",
    "plt.axhline(y=97.5, xmin= 0, xmax= 0.54, linestyle = \":\", color = \"#808080\")\n",
    "\n",
    "#Títulos de las variables\n",
    "plt.text(49,82, '$E_1$', fontsize = 12, color = 'black')\n",
    "plt.text(52,102, '$E_0$', fontsize = 12, color = 'black')\n",
    "plt.text(-1,99, '$r_0$', fontsize = 12, color = 'black')\n",
    "plt.text(-1,88, '$r_1$', fontsize = 12, color = 'black')\n",
    "plt.text(54,10, '$Y_0$', fontsize = 12, color = 'black')\n",
    "plt.text(49,10, '$Y_1$', fontsize = 12, color = 'black')\n",
    "plt.text(83, 58.5, '$Δt$', fontsize=11, color='black')\n",
    "#Flechas\n",
    "plt.text(83, 55, '←', fontsize=12, color='black')\n",
    "plt.text(52, 35, '←', fontsize=12, color='blue')\n",
    "plt.text(4, 94, '↓', fontsize=12, color='blue')\n",
    "\n",
    "# Título, ejes y leyenda\n",
    "ax.set(title=\"Efectos del aumento de la Tasa Impositiva($t>0$)\", xlabel='Y', ylabel='r')\n",
    "ax.legend()\n",
    "\n",
    "plt.show()"
   ]
  },
  {
   "cell_type": "markdown",
   "id": "2d9ab16e",
   "metadata": {},
   "source": [
    "## Código (Tres puntos Extra!)"
   ]
  },
  {
   "cell_type": "markdown",
   "id": "323dbffa",
   "metadata": {},
   "source": [
    "### 1. Modelo IS-LM"
   ]
  },
  {
   "cell_type": "markdown",
   "id": "dc042174",
   "metadata": {},
   "source": [
    "#### 1.1. Encuentre las ecuaciones de Ingreso $(Y^e)$ y tasa de interes $(r^e)$ de equilibrio(Escriba paso a paso la derivacion de estas ecuaciones)."
   ]
  },
  {
   "cell_type": "markdown",
   "id": "6f4588b3",
   "metadata": {},
   "source": [
    "\n",
    "Para obtener la curva IS, se parte de la identidad Ingreso-Costo y se busca llegar al equilibrio ahorro-inversión\n",
    "\n",
    "$$Y=C+I+G$$\n",
    "\n",
    "Para llegar al equilibrio Ahorro-Inversión, se debe restar la tributación ($T$) de ambos miembros de la identidad\n",
    "\n",
    "$$Y=C_0+bY^d+I_0-hr+G_0$$\n",
    "\n",
    "$$Y=C_0+bY^d+I_0-hr+G_0$$\n",
    "\n",
    "$$hr=C_0+I_0+G_0+b(1-t)Y-Y$$\n",
    "\n",
    "$$ hr = (C_0 + G_0 + I_0) - [1 - b(1 - t)]Y $$\n",
    "\n",
    "Entonces, la ecuación de la curva IS es:\n",
    "\n",
    "$$ r = \\frac{1}{h}(C_0 + G_0 + I_0) - \\frac{1 - b(1 - t)}{h}Y $$\n",
    "\n",
    "De manera reducida:\n",
    "\n",
    "$$ r = \\frac{B_0}{h} - \\frac{B_1}{h}Y $$\n",
    "\n",
    "Donde $B_0=C_0 + G_0 + I_0 y B_1=1 - b(1 - t)$\n",
    "\n",
    "La ecuación de la curva LM surge de la igualdad entre la oferta de dinero y la demanda de dinero\n",
    "\n",
    "$$ \\frac{M^s_0}{P_0} = kY - j(r + π^e) $$\n",
    "\n",
    "$$ j(r + π^e) = kY - \\frac{M^s_0}{P_0} $$\n",
    "\n",
    "$$ r + π^e = - \\frac{M^s_0}{jP_0} + \\frac{kY}{j} $$\n",
    "\n",
    "Entonces, la ecuación de la curva LM es:\n",
    "\n",
    "$$ r = - \\frac{M^s_0}{jP_0} + \\frac{k}{j}Y - π^e $$\n",
    "\n",
    "Por tanto, para hallar las ecuaciones de ingreso ($Y^e$) y tasa de interés de equilibrio ($r^e$), se igualan las ecuaciones de las curvas IS y LM\n",
    "\n",
    "- Hallar $Y^e$\n",
    "\n",
    "$$ \\frac{B_0}{h} - \\frac{B_1}{h}Y = - \\frac{M^s_0}{jP_0} + \\frac{k}{j}Y - π^e $$\n",
    "\n",
    "$$ \\frac{B_0}{h} + \\frac{M^s_0}{jP_0} + π^e = \\frac{k}{j}Y + \\frac{B_1}{h}Y $$\n",
    "\n",
    "$$ Y(\\frac{k}{j} + \\frac{B_1}{h}) = \\frac{B_0}{h} + \\frac{M^s_0}{jP_0} + π^e $$\n",
    "\n",
    "$$ Y(\\frac{hk + jB_1}{jh}) = \\frac{B_0}{h} + \\frac{M^s_0}{jP_0} + π^e $$\n",
    "\n",
    "Resultando:\n",
    "\n",
    "$$ Y^e = \\frac{jB_0}{kh + jB_1} + \\frac{M_0^s}{P_0} \\frac{h}{kh + jB_1} + \\frac{jh}{kh + jB_1} π^e $$\n",
    "\n",
    "- Hallar $r^e$\n",
    "\n",
    "$$ r^e = - \\frac{Ms_o}{P_o} (\\frac{B_1}{kh + jB_1}) + \\frac{kB_o}{kh + jB_1} - \\frac{B_1}{kh + jB_1} π^e $$"
   ]
  },
  {
   "cell_type": "markdown",
   "id": "84efc04e",
   "metadata": {},
   "source": [
    "#### 1.2. Grafique el equilibrio simultáneo en los mercados de bienes y de dinero."
   ]
  },
  {
   "cell_type": "code",
   "execution_count": 23,
   "id": "eead5c16",
   "metadata": {},
   "outputs": [],
   "source": [
    "#--------------------------------------------------\n",
    "    # Curva IS\n",
    "\n",
    "# Parámetros\n",
    "\n",
    "Y_size = 100 \n",
    "\n",
    "Co = 35\n",
    "Io = 40\n",
    "Go = 50\n",
    "h = 0.8\n",
    "b = 0.5\n",
    "t = 0.8\n",
    "\n",
    "Y = np.arange(Y_size)\n",
    "\n",
    "\n",
    "# Ecuación \n",
    "def r_IS_2(b, t, Co, Io, Go, h, Y):\n",
    "    r_IS_2 = (Co + Io + Go - Y * (1-b*(1-t)))/h\n",
    "    return r_IS_2\n",
    "\n",
    "r_2 = r_IS_2(b, t, Co, Io, Go, h, Y)\n",
    "\n",
    "\n",
    "#--------------------------------------------------\n",
    "    # Curva LM \n",
    "\n",
    "# Parámetros\n",
    "\n",
    "Y_size = 100\n",
    "\n",
    "k = 2\n",
    "\n",
    "j = 1                \n",
    "Ms = 200             \n",
    "P  = 20\n",
    "π = 4\n",
    "\n",
    "Y = np.arange(Y_size)\n",
    "\n",
    "# Ecuación\n",
    "\n",
    "def i_LM_2(k, j, Ms, P, Y, π):\n",
    "    i_LM_2 = (-Ms/P)/j + k/j*Y - π\n",
    "    return i_LM_2\n",
    "\n",
    "i_2 = i_LM_2( k, j, Ms, P, Y, π)"
   ]
  },
  {
   "cell_type": "code",
   "execution_count": 24,
   "id": "65003821",
   "metadata": {},
   "outputs": [
    {
     "data": {
      "image/png": "[encoded data removed]",
      "text/plain": [
       "<Figure size 720x576 with 1 Axes>"
      ]
     },
     "metadata": {
      "filenames": {
       "image/png": "C:\\Users\\Usuario\\reportesmacro\\_build\\jupyter_execute\\20200373_r4_52_0.png"
      }
     },
     "output_type": "display_data"
    }
   ],
   "source": [
    "# Gráfico del modelo IS-LM\n",
    "\n",
    "# Dimensiones del gráfico\n",
    "y_max = np.max(i)\n",
    "fig, ax = plt.subplots(figsize=(10, 8))\n",
    "\n",
    "# Curvas a graficar\n",
    "ax.plot(Y, r_2, label = \"IS\", color = \"C1\") #IS\n",
    "ax.plot(Y, i_2, label=\"LM\", color = \"C0\")  #LM\n",
    "\n",
    "# Eliminar las cantidades de los ejes\n",
    "ax.yaxis.set_major_locator(plt.NullLocator())   \n",
    "ax.xaxis.set_major_locator(plt.NullLocator())\n",
    "\n",
    "# Texto y figuras agregadas\n",
    "plt.axvline(x=55,  ymin= 0, ymax= 0.54, linestyle = \":\", color = \"black\")\n",
    "plt.axhline(y=94, xmin= 0, xmax= 0.55, linestyle = \":\", color = \"black\")\n",
    "plt.text(53,102, '$E_0$', fontsize = 14, color = 'black')\n",
    "plt.text(0,100, '$r_0$', fontsize = 12, color = 'black')\n",
    "plt.text(56,-15, '$Y_0$', fontsize = 12, color = 'black')\n",
    "\n",
    "# Título, ejes y leyenda\n",
    "ax.set(title=\"Equilibrio modelo IS-LM\", xlabel= r'Y', ylabel= r'r')\n",
    "ax.legend()\n",
    "\n",
    "plt.show()"
   ]
  },
  {
   "cell_type": "code",
   "execution_count": 25,
   "id": "d5b62988",
   "metadata": {},
   "outputs": [],
   "source": [
    "# nombrar variables como símbolos\n",
    "Co, Io, Go, h, r, b, t, beta_0, beta_1  = symbols('Co, Io, Go, h, r, b, t, beta_0, beta_1')\n",
    "\n",
    "# nombrar variables como símbolos\n",
    "k, j, Ms, P, Y, π = symbols('k j Ms P Y π')\n",
    "\n",
    "# Beta_0 y beta_1\n",
    "beta_0 = (Co + Io + Go)\n",
    "beta_1 = (1 - b*(1-t))\n",
    "\n",
    "# Producto de equilibrio y la tasa de interes de equilibrio en el modelo IS-LM\n",
    "r_eq = -(Ms/P)*(beta_1/(k*h+j*beta_1)) + ((k*beta_0)/k*h+j*beta_1) - ((beta_1*π)/k*h+j*beta_1)\n",
    "Y_eq = ((j*beta_0)/(k*h+j*beta_1)) + (Ms/P)*(h/(k*h+j*beta_1)) + (j*h*π/(k*h+j*beta_1))"
   ]
  },
  {
   "cell_type": "markdown",
   "id": "d8793bfb",
   "metadata": {},
   "source": [
    "### 2. Estática comparativa.\n",
    "#### 2.1. Analice los efectos sobre las variables endógenas Y, r de una disminución de los Precios $(ΔP_0<0)$. El análisis debe ser intuitivo, matemático y gráfico."
   ]
  },
  {
   "cell_type": "markdown",
   "id": "979de8e2",
   "metadata": {},
   "source": [
    "Análisis intuitivo\n",
    "\n",
    "- Mercado de dinero\n",
    "\n",
    "$$ P_0↓ →  P↓ → M^s>M^d → r↓ $$\n",
    "\n",
    "- Mercado de bienes\n",
    "\n",
    "$$ r↓ → I↑ → DA↑ → DA>Y → Y↑ $$"
   ]
  },
  {
   "cell_type": "markdown",
   "id": "18c31c2f",
   "metadata": {},
   "source": [
    "Análisis matemático"
   ]
  },
  {
   "cell_type": "code",
   "execution_count": 26,
   "id": "e791cd57",
   "metadata": {},
   "outputs": [],
   "source": [
    "# nombrar variables como símbolos\n",
    "Co, Io, Go, h, r, b, t, beta_0, beta_1  = symbols('Co, Io, Go, h, r, b, t, beta_0, beta_1')\n",
    "\n",
    "# nombrar variables como símbolos\n",
    "k, j, Ms, P, Y, π = symbols('k j Ms P Y π')\n",
    "\n",
    "# Beta_0 y beta_1\n",
    "beta_0 = (Co + Io + Go)\n",
    "beta_1 = (1 - b*(1-t))\n",
    "\n",
    "# Producto de equilibrio y la tasa de interes de equilibrio en el modelo IS-LM\n",
    "r_eq = -(Ms/P)*(beta_1/(k*h+j*beta_1)) + ((k*beta_0)/k*h+j*beta_1) - ((beta_1*π)/k*h+j*beta_1)\n",
    "Y_eq = ((j*beta_0)/(k*h+j*beta_1)) + (Ms/P)*(h/(k*h+j*beta_1)) + (j*h*π/(k*h+j*beta_1))"
   ]
  },
  {
   "cell_type": "code",
   "execution_count": 27,
   "id": "6b9ec929",
   "metadata": {},
   "outputs": [
    {
     "name": "stdout",
     "output_type": "stream",
     "text": [
      "El Diferencial del Producto con respecto al diferencial del nivel de precios =  -Ms*h/(P**2*(h*k + j*(-b*(1 - t) + 1)))\n"
     ]
    }
   ],
   "source": [
    "df_Y_eq_P = diff(Y_eq, P)\n",
    "print(\"El Diferencial del Producto con respecto al diferencial del nivel de precios = \", df_Y_eq_P)"
   ]
  },
  {
   "cell_type": "markdown",
   "id": "6d849b03",
   "metadata": {},
   "source": [
    "\n",
    "- Cambios en $Y^e$:\n",
    "\n",
    "¿$∆Y$ sabiendo que $∆P < 0$?\n",
    "\n",
    "$$ \\frac{∆Y}{∆P} = (-) $$\n",
    "\n",
    "$$ \\frac{∆Y}{(-)} = (-) $$\n",
    "\n",
    "$$ ∆Y > 0 $$"
   ]
  },
  {
   "cell_type": "code",
   "execution_count": 28,
   "id": "8396d837",
   "metadata": {},
   "outputs": [
    {
     "name": "stdout",
     "output_type": "stream",
     "text": [
      "El Diferencial de la tasa de interés con respecto al diferencial del nivel de precios =  Ms*(-b*(1 - t) + 1)/(P**2*(h*k + j*(-b*(1 - t) + 1)))\n"
     ]
    }
   ],
   "source": [
    "df_r_eq_P = diff(r_eq, P)\n",
    "print(\"El Diferencial de la tasa de interés con respecto al diferencial del nivel de precios = \", df_r_eq_P)"
   ]
  },
  {
   "cell_type": "markdown",
   "id": "97eb0673",
   "metadata": {},
   "source": [
    "\n",
    "- Cambios en $r^e$:\n",
    "\n",
    "¿$∆r$ sabiendo que $∆P < 0$?\n",
    "\n",
    "$$ \\frac{∆r}{∆P} = (+) $$\n",
    "\n",
    "$$ \\frac{∆r}{(-)} = (+) $$\n",
    "\n",
    "$$ ∆r < 0 $$\n",
    "\n",
    "- Gráfico"
   ]
  },
  {
   "cell_type": "code",
   "execution_count": 29,
   "id": "e62028fb",
   "metadata": {},
   "outputs": [],
   "source": [
    "#--------------------------------------------------\n",
    "    # Curva IS\n",
    "\n",
    "# Parámetros\n",
    "\n",
    "Y_size = 100 \n",
    "\n",
    "Co = 35\n",
    "Io = 40\n",
    "Go = 50\n",
    "h = 0.8\n",
    "b = 0.5\n",
    "t = 0.8\n",
    "\n",
    "Y = np.arange(Y_size)\n",
    "\n",
    "\n",
    "# Ecuación \n",
    "def r_IS_2(b, t, Co, Io, Go, h, Y):\n",
    "    r_IS_2 = (Co + Io + Go - Y * (1-b*(1-t)))/h\n",
    "    return r_IS_2\n",
    "\n",
    "r_2 = r_IS_2(b, t, Co, Io, Go, h, Y)\n",
    "\n",
    "\n",
    "#--------------------------------------------------\n",
    "    # Curva LM \n",
    "\n",
    "# Parámetros\n",
    "\n",
    "Y_size = 100\n",
    "\n",
    "k = 2\n",
    "j = 1                \n",
    "Ms = 200             \n",
    "P  = 20\n",
    "π = 4\n",
    "\n",
    "Y = np.arange(Y_size)\n",
    "\n",
    "# Ecuación\n",
    "\n",
    "def i_LM_2(k, j, Ms, P, Y, π):\n",
    "    i_LM_2 = (-Ms/P)/j + k/j*Y - π\n",
    "    return i_LM_2\n",
    "\n",
    "i_2 = i_LM_2( k, j, Ms, P, Y, π)\n",
    "\n",
    "\n",
    "#--------------------------------------------------\n",
    "    # Nueva curva LM \n",
    "    \n",
    "P = 5\n",
    "\n",
    "# Ecuación\n",
    "\n",
    "def i_LM_2(k, j, Ms, P, Y, π):\n",
    "    i_LM_2 = (-Ms/P)/j + k/j*Y - π\n",
    "    return i_LM_2\n",
    "\n",
    "i_2_P = i_LM_2( k, j, Ms, P, Y, π)"
   ]
  },
  {
   "cell_type": "code",
   "execution_count": 30,
   "id": "a2528dc4",
   "metadata": {},
   "outputs": [
    {
     "data": {
      "image/png": "[encoded data removed]",
      "text/plain": [
       "<Figure size 720x576 with 1 Axes>"
      ]
     },
     "metadata": {
      "filenames": {
       "image/png": "C:\\Users\\Usuario\\reportesmacro\\_build\\jupyter_execute\\20200373_r4_63_0.png"
      }
     },
     "output_type": "display_data"
    }
   ],
   "source": [
    "# Gráfico del modelo IS-LM\n",
    "\n",
    "# Dimensiones del gráfico\n",
    "y_max = np.max(i)\n",
    "fig, ax = plt.subplots(figsize=(10, 8))\n",
    "\n",
    "# Curvas a graficar\n",
    "ax.plot(Y, r_2, label = \"IS\", color = \"C3\") #IS\n",
    "ax.plot(Y, i_2, label=\"LM\", color = \"C0\")  #LM\n",
    "ax.plot(Y, i_2_P, label=\"LM\", color = \"C9\", linestyle ='dashed')  #LM\n",
    "\n",
    "# Eliminar las cantidades de los ejes\n",
    "ax.yaxis.set_major_locator(plt.NullLocator())   \n",
    "ax.xaxis.set_major_locator(plt.NullLocator())\n",
    "\n",
    "# Texto y figuras agregadas\n",
    "plt.axvline(x=55,  ymin= 0, ymax= 0.6, linestyle = \":\", color = \"black\")\n",
    "plt.axhline(y=94, xmin= 0, xmax= 0.55, linestyle = \":\", color = \"black\")\n",
    "plt.text(53,102, '$E_0$', fontsize = 14, color = 'black')\n",
    "plt.text(0,100, '$r_0$', fontsize = 12, color = 'black')\n",
    "plt.text(56,-45, '$Y_0$', fontsize = 12, color = 'black')\n",
    "\n",
    "plt.axvline(x=64.5,  ymin= 0, ymax= 0.56, linestyle = \":\", color = \"black\")\n",
    "plt.axhline(y=85, xmin= 0, xmax= 0.64, linestyle = \":\", color = \"black\")\n",
    "plt.text(62,90, '$E_1$', fontsize = 14, color = 'C0')\n",
    "plt.text(0,75, '$r_1$', fontsize = 12, color = 'C0')\n",
    "plt.text(66,-45, '$Y_1$', fontsize = 12, color = 'C0')\n",
    "\n",
    "# Título, ejes y leyenda\n",
    "ax.set(title=\"Disminución del Precio\", xlabel= r'Y', ylabel= r'r')\n",
    "ax.legend()\n",
    "\n",
    "plt.show()"
   ]
  },
  {
   "cell_type": "markdown",
   "id": "2d630423",
   "metadata": {},
   "source": [
    "#### 2.2. Analice los efectos sobre las variables endógenas Y, r de una disminución de la inflación esperada $(∆π < 0)$. El análisis debe ser intuitivo, matemático y gráfico."
   ]
  },
  {
   "cell_type": "markdown",
   "id": "c1437349",
   "metadata": {},
   "source": [
    "\n",
    "- Análisis intuititvo\n",
    "\n",
    "$$ π↓ → r↑ $$\n",
    "\n",
    "$$ r↑ → I↓ → DA↓ → DA < Y → Y↓ $$"
   ]
  },
  {
   "cell_type": "code",
   "execution_count": 31,
   "id": "ffafa3f7",
   "metadata": {},
   "outputs": [],
   "source": [
    "\n",
    "# nombrar variables como símbolos\n",
    "Co, Io, Go, h, r, b, t, beta_0, beta_1  = symbols('Co, Io, Go, h, r, b, t, beta_0, beta_1')\n",
    "\n",
    "# nombrar variables como símbolos\n",
    "k, j, Ms, P, Y, π = symbols('k j Ms P Y π')\n",
    "\n",
    "# Beta_0 y beta_1\n",
    "beta_0 = (Co + Io + Go)\n",
    "beta_1 = (1 - b*(1-t))\n",
    "\n",
    "# Producto de equilibrio y la tasa de interes de equilibrio en el modelo IS-LM\n",
    "r_eq = -(Ms/P)*(beta_1/(k*h+j*beta_1)) + ((k*beta_0)/k*h+j*beta_1) - ((beta_1*π)/k*h+j*beta_1)\n",
    "Y_eq = ((j*beta_0)/(k*h+j*beta_1)) + (Ms/P)*(h/(k*h+j*beta_1)) + (j*h*π/(k*h+j*beta_1))"
   ]
  },
  {
   "cell_type": "code",
   "execution_count": 32,
   "id": "e9761514",
   "metadata": {},
   "outputs": [
    {
     "name": "stdout",
     "output_type": "stream",
     "text": [
      "El Diferencial del Producto con respecto al diferencial del nivel de inflación =  h*j/(h*k + j*(-b*(1 - t) + 1))\n"
     ]
    }
   ],
   "source": [
    "df_Y_eq_π = diff(Y_eq, π)\n",
    "print(\"El Diferencial del Producto con respecto al diferencial del nivel de inflación = \", df_Y_eq_π)"
   ]
  },
  {
   "cell_type": "markdown",
   "id": "f854ed3a",
   "metadata": {},
   "source": [
    "Análisis matemático:\n",
    "\n",
    "- Cambios en $Y^e$\n",
    "\n",
    "¿$∆Y$ sabiendo que $∆π < 0$?\n",
    "\n",
    "$$ \\frac{∆Y}{∆π} = (+) $$\n",
    "\n",
    "$$ \\frac{∆Y}{(-)} = (+) $$\n",
    "\n",
    "$$ ∆Y < 0 $$"
   ]
  },
  {
   "cell_type": "code",
   "execution_count": 33,
   "id": "8f90736a",
   "metadata": {},
   "outputs": [
    {
     "name": "stdout",
     "output_type": "stream",
     "text": [
      "El Diferencial de la tasa de interés con respecto al diferencial del nivel de inflación =  -h*(-b*(1 - t) + 1)/k\n"
     ]
    }
   ],
   "source": [
    "df_r_eq_π = diff(r_eq, π)\n",
    "print(\"El Diferencial de la tasa de interés con respecto al diferencial del nivel de inflación = \", df_r_eq_π)\n"
   ]
  },
  {
   "cell_type": "markdown",
   "id": "d50031e0",
   "metadata": {},
   "source": [
    "\n",
    "- Cambios en $r_eq$\n",
    "\n",
    "¿$∆r$ sabiendo que $∆π < 0$?\n",
    "\n",
    "$$ \\frac{∆r}{∆π} = (-) $$\n",
    "\n",
    "$$ \\frac{∆r}{(-)} = (-) $$\n",
    "\n",
    "$$ ∆r > 0 $$\n",
    "\n",
    "- Gráfico"
   ]
  },
  {
   "cell_type": "code",
   "execution_count": 34,
   "id": "7ae09d50",
   "metadata": {},
   "outputs": [],
   "source": [
    "#--------------------------------------------------\n",
    "    # Curva IS\n",
    "\n",
    "# Parámetros\n",
    "\n",
    "Y_size = 100 \n",
    "\n",
    "Co = 35\n",
    "Io = 40\n",
    "Go = 50\n",
    "h = 0.8\n",
    "b = 0.5\n",
    "t = 0.8\n",
    "\n",
    "Y = np.arange(Y_size)\n",
    "\n",
    "# Ecuación \n",
    "def r_IS_2(b, t, Co, Io, Go, h, Y):\n",
    "    r_IS_2 = (Co + Io + Go - Y * (1-b*(1-t)))/h\n",
    "    return r_IS_2\n",
    "\n",
    "r_2 = r_IS_2(b, t, Co, Io, Go, h, Y)\n",
    "\n",
    "\n",
    "#--------------------------------------------------\n",
    "    # Curva LM \n",
    "\n",
    "# Parámetros\n",
    "\n",
    "Y_size = 100\n",
    "\n",
    "k = 2\n",
    "j = 1                \n",
    "Ms = 200             \n",
    "P  = 20\n",
    "π = 20\n",
    "\n",
    "Y = np.arange(Y_size)\n",
    "\n",
    "# Ecuación\n",
    "\n",
    "def i_LM_2(k, j, Ms, P, Y, π):\n",
    "    i_LM_2 = (-Ms/P)/j + k/j*Y - π\n",
    "    return i_LM_2\n",
    "\n",
    "i_2 = i_LM_2( k, j, Ms, P, Y, π)\n",
    "\n",
    "\n",
    "#--------------------------------------------------\n",
    "    # Nueva curva LM \n",
    "    \n",
    "π = 2\n",
    "\n",
    "# Ecuación\n",
    "\n",
    "def i_LM_2(k, j, Ms, P, Y, π):\n",
    "    i_LM_2 = (-Ms/P)/j + k/j*Y - π\n",
    "    return i_LM_2\n",
    "\n",
    "i_2_π = i_LM_2( k, j, Ms, P, Y, π)"
   ]
  },
  {
   "cell_type": "code",
   "execution_count": 35,
   "id": "0dc4f5b6",
   "metadata": {},
   "outputs": [
    {
     "data": {
      "image/png": "[encoded data removed]",
      "text/plain": [
       "<Figure size 720x576 with 1 Axes>"
      ]
     },
     "metadata": {
      "filenames": {
       "image/png": "C:\\Users\\Usuario\\reportesmacro\\_build\\jupyter_execute\\20200373_r4_72_0.png"
      }
     },
     "output_type": "display_data"
    }
   ],
   "source": [
    " # Gráfico del modelo IS-LM\n",
    "\n",
    "# Dimensiones del gráfico\n",
    "y_max = np.max(i)\n",
    "fig, ax = plt.subplots(figsize=(10, 8))\n",
    "\n",
    "# Curvas a graficar\n",
    "ax.plot(Y, r_2, label = \"IS\", color = \"C5\") #IS\n",
    "ax.plot(Y, i_2, label=\"LM\", color = \"C0\")  #LM\n",
    "ax.plot(Y, i_2_π, label=\"LM\", color = \"C9\", linestyle ='dashed')  #LM\n",
    "\n",
    "# Eliminar las cantidades de los ejes\n",
    "ax.yaxis.set_major_locator(plt.NullLocator())   \n",
    "ax.xaxis.set_major_locator(plt.NullLocator())\n",
    "\n",
    "# Texto y figuras agregadas\n",
    "plt.axvline(x=54,  ymin= 0, ymax= 0.57, linestyle = \":\", color = \"black\")\n",
    "plt.axhline(y=95, xmin= 0, xmax= 0.54, linestyle = \":\", color = \"black\")\n",
    "plt.text(52,103, '$E_1$', fontsize = 14, color = 'C0')\n",
    "plt.text(0,100, '$r_1$', fontsize = 12, color = 'C0')\n",
    "plt.text(50,-35, '$Y_1$', fontsize = 12, color = 'C0')\n",
    "\n",
    "plt.axvline(x=60,  ymin= 0, ymax= 0.55, linestyle = \":\", color = \"black\")\n",
    "plt.axhline(y=89, xmin= 0, xmax= 0.6, linestyle = \":\", color = \"black\")\n",
    "plt.text(58,95, '$E_0$', fontsize = 14, color = 'black')\n",
    "plt.text(0,80, '$r_0$', fontsize = 12, color = 'black')\n",
    "plt.text(56,-35, '$Y_0$', fontsize = 12, color = 'black')\n",
    "\n",
    "# Título, ejes y leyenda\n",
    "ax.set(title=\"Disminución de la inflación esperada\", xlabel= r'Y', ylabel= r'r')\n",
    "ax.legend()\n",
    "\n",
    "plt.show()"
   ]
  },
  {
   "cell_type": "code",
   "execution_count": null,
   "id": "b554aafc",
   "metadata": {},
   "outputs": [],
   "source": []
  }
 ],
 "metadata": {
  "kernelspec": {
   "display_name": "Python 3 (ipykernel)",
   "language": "python",
   "name": "python3"
  },
  "language_info": {
   "codemirror_mode": {
    "name": "ipython",
    "version": 3
   },
   "file_extension": ".py",
   "mimetype": "text/x-python",
   "name": "python",
   "nbconvert_exporter": "python",
   "pygments_lexer": "ipython3",
   "version": "3.9.12"
  }
 },
 "nbformat": 4,
 "nbformat_minor": 5
}